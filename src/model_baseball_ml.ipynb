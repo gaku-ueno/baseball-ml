{
 "cells": [
  {
   "attachments": {},
   "cell_type": "markdown",
   "metadata": {},
   "source": [
    "# Using a model to predict a player's future offensive performance using wRC+"
   ]
  },
  {
   "cell_type": "code",
   "execution_count": 44,
   "metadata": {},
   "outputs": [],
   "source": [
    "import numpy as np\n",
    "import pandas as pd\n",
    "\n",
    "import plotly.express as px\n",
    "\n",
    "from sklearn.ensemble import RandomForestRegressor\n",
    "from sklearn.metrics import mean_squared_error, r2_score\n",
    "import numpy as np\n",
    "\n",
    "import plotly.io as pio\n",
    "pio.templates.default = \"plotly_dark\""
   ]
  },
  {
   "cell_type": "code",
   "execution_count": 45,
   "metadata": {},
   "outputs": [
    {
     "data": {
      "text/html": [
       "<div>\n",
       "<style scoped>\n",
       "    .dataframe tbody tr th:only-of-type {\n",
       "        vertical-align: middle;\n",
       "    }\n",
       "\n",
       "    .dataframe tbody tr th {\n",
       "        vertical-align: top;\n",
       "    }\n",
       "\n",
       "    .dataframe thead th {\n",
       "        text-align: right;\n",
       "    }\n",
       "</style>\n",
       "<table border=\"1\" class=\"dataframe\">\n",
       "  <thead>\n",
       "    <tr style=\"text-align: right;\">\n",
       "      <th></th>\n",
       "      <th>Season</th>\n",
       "      <th>AVG</th>\n",
       "      <th>ISO</th>\n",
       "      <th>BB%</th>\n",
       "      <th>K%</th>\n",
       "      <th>Barrel%</th>\n",
       "      <th>HardHit%</th>\n",
       "      <th>EV</th>\n",
       "      <th>maxEV</th>\n",
       "      <th>LA</th>\n",
       "      <th>GB%</th>\n",
       "      <th>FB%</th>\n",
       "      <th>SwStr%</th>\n",
       "      <th>CStr%</th>\n",
       "      <th>O-Swing%</th>\n",
       "      <th>Z-Swing%</th>\n",
       "      <th>O-Contact%</th>\n",
       "      <th>Z-Contact%</th>\n",
       "      <th>wRC+</th>\n",
       "      <th>wRC+_next</th>\n",
       "    </tr>\n",
       "  </thead>\n",
       "  <tbody>\n",
       "    <tr>\n",
       "      <th>1868</th>\n",
       "      <td>2023</td>\n",
       "      <td>0.272</td>\n",
       "      <td>0.169</td>\n",
       "      <td>0.061</td>\n",
       "      <td>0.190</td>\n",
       "      <td>0.093</td>\n",
       "      <td>0.466</td>\n",
       "      <td>90.9</td>\n",
       "      <td>113.5</td>\n",
       "      <td>5.7</td>\n",
       "      <td>0.532</td>\n",
       "      <td>0.310</td>\n",
       "      <td>0.144</td>\n",
       "      <td>0.132</td>\n",
       "      <td>0.395</td>\n",
       "      <td>0.730</td>\n",
       "      <td>0.575</td>\n",
       "      <td>0.856</td>\n",
       "      <td>105.0</td>\n",
       "      <td>78.0</td>\n",
       "    </tr>\n",
       "    <tr>\n",
       "      <th>374</th>\n",
       "      <td>2023</td>\n",
       "      <td>0.292</td>\n",
       "      <td>0.208</td>\n",
       "      <td>0.062</td>\n",
       "      <td>0.248</td>\n",
       "      <td>0.110</td>\n",
       "      <td>0.397</td>\n",
       "      <td>89.1</td>\n",
       "      <td>113.3</td>\n",
       "      <td>14.3</td>\n",
       "      <td>0.397</td>\n",
       "      <td>0.391</td>\n",
       "      <td>0.148</td>\n",
       "      <td>0.125</td>\n",
       "      <td>0.389</td>\n",
       "      <td>0.757</td>\n",
       "      <td>0.609</td>\n",
       "      <td>0.814</td>\n",
       "      <td>130.0</td>\n",
       "      <td>98.0</td>\n",
       "    </tr>\n",
       "    <tr>\n",
       "      <th>2177</th>\n",
       "      <td>2023</td>\n",
       "      <td>0.222</td>\n",
       "      <td>0.155</td>\n",
       "      <td>0.040</td>\n",
       "      <td>0.252</td>\n",
       "      <td>0.071</td>\n",
       "      <td>0.439</td>\n",
       "      <td>89.8</td>\n",
       "      <td>112.1</td>\n",
       "      <td>16.6</td>\n",
       "      <td>0.391</td>\n",
       "      <td>0.391</td>\n",
       "      <td>0.165</td>\n",
       "      <td>0.142</td>\n",
       "      <td>0.416</td>\n",
       "      <td>0.711</td>\n",
       "      <td>0.525</td>\n",
       "      <td>0.831</td>\n",
       "      <td>77.0</td>\n",
       "      <td>89.0</td>\n",
       "    </tr>\n",
       "    <tr>\n",
       "      <th>402</th>\n",
       "      <td>2023</td>\n",
       "      <td>0.268</td>\n",
       "      <td>0.179</td>\n",
       "      <td>0.127</td>\n",
       "      <td>0.234</td>\n",
       "      <td>0.119</td>\n",
       "      <td>0.507</td>\n",
       "      <td>91.3</td>\n",
       "      <td>111.7</td>\n",
       "      <td>12.8</td>\n",
       "      <td>0.411</td>\n",
       "      <td>0.372</td>\n",
       "      <td>0.108</td>\n",
       "      <td>0.186</td>\n",
       "      <td>0.291</td>\n",
       "      <td>0.638</td>\n",
       "      <td>0.682</td>\n",
       "      <td>0.798</td>\n",
       "      <td>122.0</td>\n",
       "      <td>100.0</td>\n",
       "    </tr>\n",
       "    <tr>\n",
       "      <th>802</th>\n",
       "      <td>2023</td>\n",
       "      <td>0.236</td>\n",
       "      <td>0.241</td>\n",
       "      <td>0.114</td>\n",
       "      <td>0.319</td>\n",
       "      <td>0.165</td>\n",
       "      <td>0.485</td>\n",
       "      <td>91.0</td>\n",
       "      <td>112.3</td>\n",
       "      <td>22.2</td>\n",
       "      <td>0.288</td>\n",
       "      <td>0.481</td>\n",
       "      <td>0.159</td>\n",
       "      <td>0.131</td>\n",
       "      <td>0.301</td>\n",
       "      <td>0.753</td>\n",
       "      <td>0.498</td>\n",
       "      <td>0.775</td>\n",
       "      <td>118.0</td>\n",
       "      <td>87.0</td>\n",
       "    </tr>\n",
       "    <tr>\n",
       "      <th>...</th>\n",
       "      <td>...</td>\n",
       "      <td>...</td>\n",
       "      <td>...</td>\n",
       "      <td>...</td>\n",
       "      <td>...</td>\n",
       "      <td>...</td>\n",
       "      <td>...</td>\n",
       "      <td>...</td>\n",
       "      <td>...</td>\n",
       "      <td>...</td>\n",
       "      <td>...</td>\n",
       "      <td>...</td>\n",
       "      <td>...</td>\n",
       "      <td>...</td>\n",
       "      <td>...</td>\n",
       "      <td>...</td>\n",
       "      <td>...</td>\n",
       "      <td>...</td>\n",
       "      <td>...</td>\n",
       "      <td>...</td>\n",
       "    </tr>\n",
       "    <tr>\n",
       "      <th>1643</th>\n",
       "      <td>2015</td>\n",
       "      <td>0.262</td>\n",
       "      <td>0.160</td>\n",
       "      <td>0.085</td>\n",
       "      <td>0.230</td>\n",
       "      <td>0.029</td>\n",
       "      <td>0.233</td>\n",
       "      <td>86.8</td>\n",
       "      <td>105.4</td>\n",
       "      <td>14.7</td>\n",
       "      <td>0.390</td>\n",
       "      <td>0.377</td>\n",
       "      <td>0.101</td>\n",
       "      <td>0.169</td>\n",
       "      <td>0.300</td>\n",
       "      <td>0.698</td>\n",
       "      <td>0.584</td>\n",
       "      <td>0.896</td>\n",
       "      <td>105.0</td>\n",
       "      <td>73.0</td>\n",
       "    </tr>\n",
       "    <tr>\n",
       "      <th>791</th>\n",
       "      <td>2015</td>\n",
       "      <td>0.304</td>\n",
       "      <td>0.194</td>\n",
       "      <td>0.076</td>\n",
       "      <td>0.181</td>\n",
       "      <td>0.074</td>\n",
       "      <td>0.377</td>\n",
       "      <td>88.1</td>\n",
       "      <td>108.5</td>\n",
       "      <td>5.4</td>\n",
       "      <td>0.500</td>\n",
       "      <td>0.284</td>\n",
       "      <td>0.076</td>\n",
       "      <td>0.203</td>\n",
       "      <td>0.329</td>\n",
       "      <td>0.598</td>\n",
       "      <td>0.727</td>\n",
       "      <td>0.898</td>\n",
       "      <td>136.0</td>\n",
       "      <td>111.0</td>\n",
       "    </tr>\n",
       "    <tr>\n",
       "      <th>2215</th>\n",
       "      <td>2015</td>\n",
       "      <td>0.226</td>\n",
       "      <td>0.209</td>\n",
       "      <td>0.089</td>\n",
       "      <td>0.223</td>\n",
       "      <td>0.079</td>\n",
       "      <td>0.374</td>\n",
       "      <td>89.7</td>\n",
       "      <td>111.4</td>\n",
       "      <td>15.5</td>\n",
       "      <td>0.370</td>\n",
       "      <td>0.442</td>\n",
       "      <td>0.110</td>\n",
       "      <td>0.129</td>\n",
       "      <td>0.318</td>\n",
       "      <td>0.752</td>\n",
       "      <td>0.617</td>\n",
       "      <td>0.873</td>\n",
       "      <td>93.0</td>\n",
       "      <td>111.0</td>\n",
       "    </tr>\n",
       "    <tr>\n",
       "      <th>799</th>\n",
       "      <td>2015</td>\n",
       "      <td>0.278</td>\n",
       "      <td>0.204</td>\n",
       "      <td>0.062</td>\n",
       "      <td>0.217</td>\n",
       "      <td>0.096</td>\n",
       "      <td>0.456</td>\n",
       "      <td>91.4</td>\n",
       "      <td>112.5</td>\n",
       "      <td>11.4</td>\n",
       "      <td>0.456</td>\n",
       "      <td>0.346</td>\n",
       "      <td>0.112</td>\n",
       "      <td>0.166</td>\n",
       "      <td>0.304</td>\n",
       "      <td>0.695</td>\n",
       "      <td>0.578</td>\n",
       "      <td>0.869</td>\n",
       "      <td>117.0</td>\n",
       "      <td>83.0</td>\n",
       "    </tr>\n",
       "    <tr>\n",
       "      <th>0</th>\n",
       "      <td>2015</td>\n",
       "      <td>0.297</td>\n",
       "      <td>0.271</td>\n",
       "      <td>0.103</td>\n",
       "      <td>0.187</td>\n",
       "      <td>0.114</td>\n",
       "      <td>0.465</td>\n",
       "      <td>92.5</td>\n",
       "      <td>113.6</td>\n",
       "      <td>10.4</td>\n",
       "      <td>0.448</td>\n",
       "      <td>0.379</td>\n",
       "      <td>0.110</td>\n",
       "      <td>0.145</td>\n",
       "      <td>0.251</td>\n",
       "      <td>0.707</td>\n",
       "      <td>0.602</td>\n",
       "      <td>0.828</td>\n",
       "      <td>154.0</td>\n",
       "      <td>157.0</td>\n",
       "    </tr>\n",
       "  </tbody>\n",
       "</table>\n",
       "<p>2813 rows × 20 columns</p>\n",
       "</div>"
      ],
      "text/plain": [
       "      Season    AVG    ISO    BB%     K%  Barrel%  HardHit%    EV  maxEV  \\\n",
       "1868    2023  0.272  0.169  0.061  0.190    0.093     0.466  90.9  113.5   \n",
       "374     2023  0.292  0.208  0.062  0.248    0.110     0.397  89.1  113.3   \n",
       "2177    2023  0.222  0.155  0.040  0.252    0.071     0.439  89.8  112.1   \n",
       "402     2023  0.268  0.179  0.127  0.234    0.119     0.507  91.3  111.7   \n",
       "802     2023  0.236  0.241  0.114  0.319    0.165     0.485  91.0  112.3   \n",
       "...      ...    ...    ...    ...    ...      ...       ...   ...    ...   \n",
       "1643    2015  0.262  0.160  0.085  0.230    0.029     0.233  86.8  105.4   \n",
       "791     2015  0.304  0.194  0.076  0.181    0.074     0.377  88.1  108.5   \n",
       "2215    2015  0.226  0.209  0.089  0.223    0.079     0.374  89.7  111.4   \n",
       "799     2015  0.278  0.204  0.062  0.217    0.096     0.456  91.4  112.5   \n",
       "0       2015  0.297  0.271  0.103  0.187    0.114     0.465  92.5  113.6   \n",
       "\n",
       "        LA    GB%    FB%  SwStr%  CStr%  O-Swing%  Z-Swing%  O-Contact%  \\\n",
       "1868   5.7  0.532  0.310   0.144  0.132     0.395     0.730       0.575   \n",
       "374   14.3  0.397  0.391   0.148  0.125     0.389     0.757       0.609   \n",
       "2177  16.6  0.391  0.391   0.165  0.142     0.416     0.711       0.525   \n",
       "402   12.8  0.411  0.372   0.108  0.186     0.291     0.638       0.682   \n",
       "802   22.2  0.288  0.481   0.159  0.131     0.301     0.753       0.498   \n",
       "...    ...    ...    ...     ...    ...       ...       ...         ...   \n",
       "1643  14.7  0.390  0.377   0.101  0.169     0.300     0.698       0.584   \n",
       "791    5.4  0.500  0.284   0.076  0.203     0.329     0.598       0.727   \n",
       "2215  15.5  0.370  0.442   0.110  0.129     0.318     0.752       0.617   \n",
       "799   11.4  0.456  0.346   0.112  0.166     0.304     0.695       0.578   \n",
       "0     10.4  0.448  0.379   0.110  0.145     0.251     0.707       0.602   \n",
       "\n",
       "      Z-Contact%   wRC+  wRC+_next  \n",
       "1868       0.856  105.0       78.0  \n",
       "374        0.814  130.0       98.0  \n",
       "2177       0.831   77.0       89.0  \n",
       "402        0.798  122.0      100.0  \n",
       "802        0.775  118.0       87.0  \n",
       "...          ...    ...        ...  \n",
       "1643       0.896  105.0       73.0  \n",
       "791        0.898  136.0      111.0  \n",
       "2215       0.873   93.0      111.0  \n",
       "799        0.869  117.0       83.0  \n",
       "0          0.828  154.0      157.0  \n",
       "\n",
       "[2813 rows x 20 columns]"
      ]
     },
     "execution_count": 45,
     "metadata": {},
     "output_type": "execute_result"
    }
   ],
   "source": [
    "# Data prior to 2023 will be used for training\n",
    "data = pd.read_csv('../data/fangraphs_numeric_data_simplified_cleaned')\n",
    "data = data.sort_values(by = 'Season', ascending=False)\n",
    "data"
   ]
  },
  {
   "attachments": {},
   "cell_type": "markdown",
   "metadata": {},
   "source": [
    "## RandomForestRegression Model\n",
    "- Using a random forest regression model to try to predict future wRC+\n",
    "- I am going to use a Random Forest Regressor for the ML model as it is robust to non-linear relationships in the data, which we found using a correlation plot in the EDA file."
   ]
  },
  {
   "cell_type": "code",
   "execution_count": 46,
   "metadata": {},
   "outputs": [
    {
     "data": {
      "text/plain": [
       "array([2023, 2022, 2021, 2020, 2019, 2018, 2017, 2016, 2015])"
      ]
     },
     "execution_count": 46,
     "metadata": {},
     "output_type": "execute_result"
    }
   ],
   "source": [
    "data['Season'].unique()"
   ]
  },
  {
   "cell_type": "code",
   "execution_count": 58,
   "metadata": {},
   "outputs": [],
   "source": [
    "def baseball_data_train_and_plot(data):\n",
    "    train_years = range(2015, 2023)\n",
    "    test_years = [2023]\n",
    "\n",
    "    train_data = data[data['Season'].isin(train_years)]\n",
    "    X_train = train_data.drop(columns=['wRC+_next', 'Season'])\n",
    "    y_train = train_data['wRC+_next']\n",
    "\n",
    "    test_data = data[data['Season'].isin(test_years)]\n",
    "    X_test = test_data.drop(columns=['wRC+_next', 'Season'])\n",
    "    y_test = test_data['wRC+_next']\n",
    "\n",
    "    print(f\"Training data: {X_train.shape}, {y_train.shape}\")\n",
    "    print(f\"Testing data: {X_test.shape}, {y_test.shape}\")\n",
    "\n",
    "    model = RandomForestRegressor(random_state=42)\n",
    "    model.fit(X_train, y_train)\n",
    "\n",
    "    predictions = model.predict(X_test)\n",
    "\n",
    "    mse = mean_squared_error(y_test, predictions)\n",
    "    rmse = np.sqrt(mse)\n",
    "    r2 = r2_score(y_test, predictions)\n",
    "\n",
    "    print(f\"MSE: {mse:.2f}, RMSE: {rmse:.2f}, R²: {r2:.2f}\")\n",
    "\n",
    "    test_pred = pd.DataFrame({\"wRC+ Predicted\": predictions, \"wRC+ Actual\": y_test})\n",
    "    test_pred_plot = px.scatter(test_pred, x = \"wRC+ Predicted\", y = \"wRC+ Actual\")\n",
    "\n",
    "    test_pred_plot.add_shape(\n",
    "        type=\"line\",\n",
    "        x0=test_pred[\"wRC+ Actual\"].min(),\n",
    "        y0=test_pred[\"wRC+ Actual\"].min(),\n",
    "        x1=test_pred[\"wRC+ Actual\"].max(),\n",
    "        y1=test_pred[\"wRC+ Actual\"].max(),\n",
    "        line=dict(color=\"red\", dash=\"dash\"),\n",
    "    )\n",
    "\n",
    "    test_pred_plot.show()\n"
   ]
  },
  {
   "cell_type": "code",
   "execution_count": 59,
   "metadata": {},
   "outputs": [
    {
     "name": "stdout",
     "output_type": "stream",
     "text": [
      "Training data: (2491, 18), (2491,)\n",
      "Testing data: (322, 18), (322,)\n",
      "MSE: 544.42, RMSE: 23.33, R²: 0.19\n"
     ]
    },
    {
     "data": {
      "application/vnd.plotly.v1+json": {
       "config": {
        "plotlyServerURL": "https://plot.ly"
       },
       "data": [
        {
         "hovertemplate": "wRC+ Predicted=%{x}<br>wRC+ Actual=%{y}<extra></extra>",
         "legendgroup": "",
         "marker": {
          "color": "#636efa",
          "symbol": "circle"
         },
         "mode": "markers",
         "name": "",
         "orientation": "v",
         "showlegend": false,
         "type": "scatter",
         "x": [
          112.94,
          112.31,
          91.76,
          118.65,
          101.94,
          92.01,
          126.02,
          106.61,
          89.83,
          89.54,
          111.29,
          91.61,
          100.99,
          100.04,
          117.18,
          114.96,
          129.56,
          107.52,
          88.88,
          110.12,
          105.64,
          101.89,
          115.35,
          107.8,
          109.46,
          86.19,
          110.82,
          85.9,
          84.71,
          108.49,
          96.42,
          108.51,
          110.16,
          118.88,
          88.4,
          115.43,
          85.74,
          103.54,
          92.42,
          104.75,
          81.32,
          88.02,
          98.82,
          76.1,
          86.49,
          93.8,
          95.88,
          106.09,
          104.37,
          97.9,
          104.23,
          86.77,
          99.77,
          92.39,
          101.32,
          120.64,
          110.17,
          111.83,
          82.16,
          98.8,
          93.18,
          95.64,
          76.34,
          82.9,
          110.52,
          101.81,
          101.19,
          95.06,
          88.09,
          108.75,
          110.34,
          92.36,
          125.09,
          95.07,
          106.84,
          98.27,
          96.98,
          107.44,
          115.79,
          94.25,
          112.15,
          102.38,
          99.55,
          93.66,
          103.36,
          90.51,
          82.69,
          106.82,
          109.77,
          105.29,
          101.05,
          100.63,
          106.97,
          121.63,
          94.24,
          95.31,
          85.03,
          81.52,
          116.85,
          117.51,
          104.57,
          118.46,
          87.79,
          113.67,
          91.76,
          91.96,
          115.31,
          90.37,
          86.19,
          109.21,
          99.13,
          91.3,
          99.45,
          116.11,
          86.17,
          82.43,
          98.25,
          82.41,
          86.4,
          99.01,
          116.9,
          104.75,
          83.43,
          78.35,
          102.8,
          100.77,
          83.54,
          104.04,
          115.75,
          105.77,
          93.51,
          116.32,
          89.73,
          105.35,
          101.4,
          100.84,
          99.1,
          84.01,
          80.83,
          79.25,
          102,
          97.78,
          97.85,
          101.32,
          100.28,
          108.07,
          109.89,
          100.64,
          89.84,
          113.58,
          88.25,
          105.13,
          101.52,
          108.18,
          99,
          97.24,
          85.52,
          90.12,
          96.52,
          100.22,
          90.88,
          102.63,
          100.44,
          112.67,
          88.26,
          106.56,
          86.84,
          106.32,
          101.97,
          84.94,
          105.09,
          110.73,
          90.13,
          80.29,
          112.81,
          102.53,
          117.88,
          97.28,
          98.76,
          93.79,
          87.96,
          102.72,
          95.16,
          83.08,
          87.67,
          100.98,
          108.23,
          87.77,
          91.81,
          99.68,
          99.83,
          103.04,
          85.92,
          108.24,
          101,
          109.29,
          103.93,
          90.05,
          95.3,
          110.02,
          100.71,
          80.7,
          101.25,
          114.59,
          102.3,
          110.48,
          92.71,
          108.71,
          94.27,
          89.76,
          109.67,
          83.7,
          100.4,
          76.37,
          84.99,
          130.46,
          103.82,
          90.5,
          90.4,
          95.62,
          113.16,
          100.46,
          86.29,
          102.69,
          112.99,
          111.33,
          122.33,
          108.01,
          83.19,
          84.55,
          95,
          86.03,
          90.19,
          86.37,
          106.34,
          92.49,
          97.57,
          97.6,
          84.38,
          85.92,
          108.74,
          106.01,
          89.97,
          93.86,
          88.07,
          97.25,
          84.94,
          110.77,
          79.5,
          119.93,
          107.59,
          88.19,
          96.07,
          98.84,
          72.74,
          101.74,
          122.24,
          92.28,
          98.63,
          95.01,
          114.72,
          92.8,
          121.97,
          87.74,
          86.29,
          92.56,
          88.21,
          88.22,
          127.45,
          90.13,
          96.68,
          115.45,
          100.41,
          79.38,
          94.7,
          107.68,
          105.38,
          99.02,
          76.53,
          86.29,
          120.01,
          104.11,
          94.74,
          122.49,
          90.22,
          92.99,
          100.63,
          91.19,
          118.31,
          109.86,
          93.82,
          109.96,
          112.72,
          89.11,
          85.79,
          101.87,
          80.23,
          101.18,
          94.31,
          89.53,
          88.91,
          89.95,
          93.66,
          128.34,
          98.07,
          90.71,
          108.81,
          109.55,
          100.33,
          104.34,
          125.69,
          87.8,
          113.98,
          109.67,
          114.1,
          128.78,
          92.42,
          95.43,
          101.09,
          130.11,
          83.28,
          82.32
         ],
         "xaxis": "x",
         "y": [
          78,
          98,
          89,
          100,
          87,
          97,
          134,
          98,
          115,
          64,
          131,
          115,
          108,
          92,
          122,
          108,
          145,
          100,
          59,
          142,
          111,
          86,
          104,
          108,
          83,
          87,
          122,
          65,
          27,
          92,
          87,
          119,
          115,
          138,
          72,
          154,
          68,
          115,
          119,
          92,
          75,
          57,
          82,
          94,
          97,
          111,
          167,
          114,
          86,
          72,
          66,
          85,
          68,
          72,
          76,
          68,
          59,
          95,
          80,
          70,
          105,
          54,
          63,
          33,
          135,
          109,
          103,
          110,
          83,
          91,
          118,
          68,
          127,
          60,
          87,
          88,
          101,
          124,
          109,
          115,
          94,
          118,
          119,
          88,
          109,
          93,
          130,
          139,
          107,
          115,
          43,
          83,
          46,
          165,
          105,
          77,
          83,
          84,
          71,
          99,
          105,
          153,
          83,
          74,
          45,
          74,
          70,
          87,
          104,
          111,
          99,
          131,
          117,
          140,
          130,
          96,
          119,
          99,
          59,
          102,
          121,
          102,
          63,
          45,
          34,
          119,
          83,
          82,
          118,
          91,
          92,
          89,
          100,
          108,
          58,
          104,
          82,
          81,
          81,
          110,
          95,
          50,
          101,
          98,
          96,
          90,
          129,
          129,
          113,
          117,
          108,
          91,
          108,
          110,
          120,
          71,
          66,
          102,
          83,
          134,
          98,
          62,
          105,
          129,
          87,
          135,
          54,
          108,
          69,
          95,
          102,
          121,
          88,
          95,
          114,
          87,
          114,
          111,
          70,
          129,
          93,
          91,
          86,
          60,
          68,
          96,
          82,
          79,
          111,
          99,
          96,
          106,
          81,
          135,
          102,
          108,
          97,
          72,
          93,
          101,
          108,
          89,
          46,
          94,
          122,
          155,
          141,
          80,
          67,
          86,
          139,
          95,
          73,
          75,
          92,
          119,
          123,
          107,
          111,
          75,
          101,
          117,
          88,
          75,
          117,
          88,
          141,
          92,
          60,
          30,
          105,
          60,
          95,
          111,
          155,
          98,
          106,
          94,
          101,
          118,
          133,
          95,
          88,
          108,
          75,
          82,
          86,
          99,
          91,
          118,
          85,
          83,
          103,
          164,
          85,
          33,
          88,
          43,
          83,
          125,
          116,
          48,
          168,
          80,
          85,
          84,
          114,
          77,
          120,
          81,
          107,
          116,
          142,
          77,
          112,
          72,
          83,
          112,
          86,
          109,
          104,
          89,
          94,
          131,
          107,
          105,
          99,
          86,
          137,
          107,
          103,
          78,
          84,
          101,
          115,
          113,
          85,
          90,
          71,
          114,
          70,
          73,
          74,
          141,
          109,
          88,
          151,
          160,
          117,
          94,
          168,
          75,
          151,
          52,
          106,
          117,
          84,
          139,
          121,
          137,
          93,
          83
         ],
         "yaxis": "y"
        }
       ],
       "layout": {
        "legend": {
         "tracegroupgap": 0
        },
        "margin": {
         "t": 60
        },
        "shapes": [
         {
          "line": {
           "color": "red",
           "dash": "dash"
          },
          "type": "line",
          "x0": 27,
          "x1": 168,
          "y0": 27,
          "y1": 168
         }
        ],
        "template": {
         "data": {
          "bar": [
           {
            "error_x": {
             "color": "#f2f5fa"
            },
            "error_y": {
             "color": "#f2f5fa"
            },
            "marker": {
             "line": {
              "color": "rgb(17,17,17)",
              "width": 0.5
             },
             "pattern": {
              "fillmode": "overlay",
              "size": 10,
              "solidity": 0.2
             }
            },
            "type": "bar"
           }
          ],
          "barpolar": [
           {
            "marker": {
             "line": {
              "color": "rgb(17,17,17)",
              "width": 0.5
             },
             "pattern": {
              "fillmode": "overlay",
              "size": 10,
              "solidity": 0.2
             }
            },
            "type": "barpolar"
           }
          ],
          "carpet": [
           {
            "aaxis": {
             "endlinecolor": "#A2B1C6",
             "gridcolor": "#506784",
             "linecolor": "#506784",
             "minorgridcolor": "#506784",
             "startlinecolor": "#A2B1C6"
            },
            "baxis": {
             "endlinecolor": "#A2B1C6",
             "gridcolor": "#506784",
             "linecolor": "#506784",
             "minorgridcolor": "#506784",
             "startlinecolor": "#A2B1C6"
            },
            "type": "carpet"
           }
          ],
          "choropleth": [
           {
            "colorbar": {
             "outlinewidth": 0,
             "ticks": ""
            },
            "type": "choropleth"
           }
          ],
          "contour": [
           {
            "colorbar": {
             "outlinewidth": 0,
             "ticks": ""
            },
            "colorscale": [
             [
              0,
              "#0d0887"
             ],
             [
              0.1111111111111111,
              "#46039f"
             ],
             [
              0.2222222222222222,
              "#7201a8"
             ],
             [
              0.3333333333333333,
              "#9c179e"
             ],
             [
              0.4444444444444444,
              "#bd3786"
             ],
             [
              0.5555555555555556,
              "#d8576b"
             ],
             [
              0.6666666666666666,
              "#ed7953"
             ],
             [
              0.7777777777777778,
              "#fb9f3a"
             ],
             [
              0.8888888888888888,
              "#fdca26"
             ],
             [
              1,
              "#f0f921"
             ]
            ],
            "type": "contour"
           }
          ],
          "contourcarpet": [
           {
            "colorbar": {
             "outlinewidth": 0,
             "ticks": ""
            },
            "type": "contourcarpet"
           }
          ],
          "heatmap": [
           {
            "colorbar": {
             "outlinewidth": 0,
             "ticks": ""
            },
            "colorscale": [
             [
              0,
              "#0d0887"
             ],
             [
              0.1111111111111111,
              "#46039f"
             ],
             [
              0.2222222222222222,
              "#7201a8"
             ],
             [
              0.3333333333333333,
              "#9c179e"
             ],
             [
              0.4444444444444444,
              "#bd3786"
             ],
             [
              0.5555555555555556,
              "#d8576b"
             ],
             [
              0.6666666666666666,
              "#ed7953"
             ],
             [
              0.7777777777777778,
              "#fb9f3a"
             ],
             [
              0.8888888888888888,
              "#fdca26"
             ],
             [
              1,
              "#f0f921"
             ]
            ],
            "type": "heatmap"
           }
          ],
          "heatmapgl": [
           {
            "colorbar": {
             "outlinewidth": 0,
             "ticks": ""
            },
            "colorscale": [
             [
              0,
              "#0d0887"
             ],
             [
              0.1111111111111111,
              "#46039f"
             ],
             [
              0.2222222222222222,
              "#7201a8"
             ],
             [
              0.3333333333333333,
              "#9c179e"
             ],
             [
              0.4444444444444444,
              "#bd3786"
             ],
             [
              0.5555555555555556,
              "#d8576b"
             ],
             [
              0.6666666666666666,
              "#ed7953"
             ],
             [
              0.7777777777777778,
              "#fb9f3a"
             ],
             [
              0.8888888888888888,
              "#fdca26"
             ],
             [
              1,
              "#f0f921"
             ]
            ],
            "type": "heatmapgl"
           }
          ],
          "histogram": [
           {
            "marker": {
             "pattern": {
              "fillmode": "overlay",
              "size": 10,
              "solidity": 0.2
             }
            },
            "type": "histogram"
           }
          ],
          "histogram2d": [
           {
            "colorbar": {
             "outlinewidth": 0,
             "ticks": ""
            },
            "colorscale": [
             [
              0,
              "#0d0887"
             ],
             [
              0.1111111111111111,
              "#46039f"
             ],
             [
              0.2222222222222222,
              "#7201a8"
             ],
             [
              0.3333333333333333,
              "#9c179e"
             ],
             [
              0.4444444444444444,
              "#bd3786"
             ],
             [
              0.5555555555555556,
              "#d8576b"
             ],
             [
              0.6666666666666666,
              "#ed7953"
             ],
             [
              0.7777777777777778,
              "#fb9f3a"
             ],
             [
              0.8888888888888888,
              "#fdca26"
             ],
             [
              1,
              "#f0f921"
             ]
            ],
            "type": "histogram2d"
           }
          ],
          "histogram2dcontour": [
           {
            "colorbar": {
             "outlinewidth": 0,
             "ticks": ""
            },
            "colorscale": [
             [
              0,
              "#0d0887"
             ],
             [
              0.1111111111111111,
              "#46039f"
             ],
             [
              0.2222222222222222,
              "#7201a8"
             ],
             [
              0.3333333333333333,
              "#9c179e"
             ],
             [
              0.4444444444444444,
              "#bd3786"
             ],
             [
              0.5555555555555556,
              "#d8576b"
             ],
             [
              0.6666666666666666,
              "#ed7953"
             ],
             [
              0.7777777777777778,
              "#fb9f3a"
             ],
             [
              0.8888888888888888,
              "#fdca26"
             ],
             [
              1,
              "#f0f921"
             ]
            ],
            "type": "histogram2dcontour"
           }
          ],
          "mesh3d": [
           {
            "colorbar": {
             "outlinewidth": 0,
             "ticks": ""
            },
            "type": "mesh3d"
           }
          ],
          "parcoords": [
           {
            "line": {
             "colorbar": {
              "outlinewidth": 0,
              "ticks": ""
             }
            },
            "type": "parcoords"
           }
          ],
          "pie": [
           {
            "automargin": true,
            "type": "pie"
           }
          ],
          "scatter": [
           {
            "marker": {
             "line": {
              "color": "#283442"
             }
            },
            "type": "scatter"
           }
          ],
          "scatter3d": [
           {
            "line": {
             "colorbar": {
              "outlinewidth": 0,
              "ticks": ""
             }
            },
            "marker": {
             "colorbar": {
              "outlinewidth": 0,
              "ticks": ""
             }
            },
            "type": "scatter3d"
           }
          ],
          "scattercarpet": [
           {
            "marker": {
             "colorbar": {
              "outlinewidth": 0,
              "ticks": ""
             }
            },
            "type": "scattercarpet"
           }
          ],
          "scattergeo": [
           {
            "marker": {
             "colorbar": {
              "outlinewidth": 0,
              "ticks": ""
             }
            },
            "type": "scattergeo"
           }
          ],
          "scattergl": [
           {
            "marker": {
             "line": {
              "color": "#283442"
             }
            },
            "type": "scattergl"
           }
          ],
          "scattermapbox": [
           {
            "marker": {
             "colorbar": {
              "outlinewidth": 0,
              "ticks": ""
             }
            },
            "type": "scattermapbox"
           }
          ],
          "scatterpolar": [
           {
            "marker": {
             "colorbar": {
              "outlinewidth": 0,
              "ticks": ""
             }
            },
            "type": "scatterpolar"
           }
          ],
          "scatterpolargl": [
           {
            "marker": {
             "colorbar": {
              "outlinewidth": 0,
              "ticks": ""
             }
            },
            "type": "scatterpolargl"
           }
          ],
          "scatterternary": [
           {
            "marker": {
             "colorbar": {
              "outlinewidth": 0,
              "ticks": ""
             }
            },
            "type": "scatterternary"
           }
          ],
          "surface": [
           {
            "colorbar": {
             "outlinewidth": 0,
             "ticks": ""
            },
            "colorscale": [
             [
              0,
              "#0d0887"
             ],
             [
              0.1111111111111111,
              "#46039f"
             ],
             [
              0.2222222222222222,
              "#7201a8"
             ],
             [
              0.3333333333333333,
              "#9c179e"
             ],
             [
              0.4444444444444444,
              "#bd3786"
             ],
             [
              0.5555555555555556,
              "#d8576b"
             ],
             [
              0.6666666666666666,
              "#ed7953"
             ],
             [
              0.7777777777777778,
              "#fb9f3a"
             ],
             [
              0.8888888888888888,
              "#fdca26"
             ],
             [
              1,
              "#f0f921"
             ]
            ],
            "type": "surface"
           }
          ],
          "table": [
           {
            "cells": {
             "fill": {
              "color": "#506784"
             },
             "line": {
              "color": "rgb(17,17,17)"
             }
            },
            "header": {
             "fill": {
              "color": "#2a3f5f"
             },
             "line": {
              "color": "rgb(17,17,17)"
             }
            },
            "type": "table"
           }
          ]
         },
         "layout": {
          "annotationdefaults": {
           "arrowcolor": "#f2f5fa",
           "arrowhead": 0,
           "arrowwidth": 1
          },
          "autotypenumbers": "strict",
          "coloraxis": {
           "colorbar": {
            "outlinewidth": 0,
            "ticks": ""
           }
          },
          "colorscale": {
           "diverging": [
            [
             0,
             "#8e0152"
            ],
            [
             0.1,
             "#c51b7d"
            ],
            [
             0.2,
             "#de77ae"
            ],
            [
             0.3,
             "#f1b6da"
            ],
            [
             0.4,
             "#fde0ef"
            ],
            [
             0.5,
             "#f7f7f7"
            ],
            [
             0.6,
             "#e6f5d0"
            ],
            [
             0.7,
             "#b8e186"
            ],
            [
             0.8,
             "#7fbc41"
            ],
            [
             0.9,
             "#4d9221"
            ],
            [
             1,
             "#276419"
            ]
           ],
           "sequential": [
            [
             0,
             "#0d0887"
            ],
            [
             0.1111111111111111,
             "#46039f"
            ],
            [
             0.2222222222222222,
             "#7201a8"
            ],
            [
             0.3333333333333333,
             "#9c179e"
            ],
            [
             0.4444444444444444,
             "#bd3786"
            ],
            [
             0.5555555555555556,
             "#d8576b"
            ],
            [
             0.6666666666666666,
             "#ed7953"
            ],
            [
             0.7777777777777778,
             "#fb9f3a"
            ],
            [
             0.8888888888888888,
             "#fdca26"
            ],
            [
             1,
             "#f0f921"
            ]
           ],
           "sequentialminus": [
            [
             0,
             "#0d0887"
            ],
            [
             0.1111111111111111,
             "#46039f"
            ],
            [
             0.2222222222222222,
             "#7201a8"
            ],
            [
             0.3333333333333333,
             "#9c179e"
            ],
            [
             0.4444444444444444,
             "#bd3786"
            ],
            [
             0.5555555555555556,
             "#d8576b"
            ],
            [
             0.6666666666666666,
             "#ed7953"
            ],
            [
             0.7777777777777778,
             "#fb9f3a"
            ],
            [
             0.8888888888888888,
             "#fdca26"
            ],
            [
             1,
             "#f0f921"
            ]
           ]
          },
          "colorway": [
           "#636efa",
           "#EF553B",
           "#00cc96",
           "#ab63fa",
           "#FFA15A",
           "#19d3f3",
           "#FF6692",
           "#B6E880",
           "#FF97FF",
           "#FECB52"
          ],
          "font": {
           "color": "#f2f5fa"
          },
          "geo": {
           "bgcolor": "rgb(17,17,17)",
           "lakecolor": "rgb(17,17,17)",
           "landcolor": "rgb(17,17,17)",
           "showlakes": true,
           "showland": true,
           "subunitcolor": "#506784"
          },
          "hoverlabel": {
           "align": "left"
          },
          "hovermode": "closest",
          "mapbox": {
           "style": "dark"
          },
          "paper_bgcolor": "rgb(17,17,17)",
          "plot_bgcolor": "rgb(17,17,17)",
          "polar": {
           "angularaxis": {
            "gridcolor": "#506784",
            "linecolor": "#506784",
            "ticks": ""
           },
           "bgcolor": "rgb(17,17,17)",
           "radialaxis": {
            "gridcolor": "#506784",
            "linecolor": "#506784",
            "ticks": ""
           }
          },
          "scene": {
           "xaxis": {
            "backgroundcolor": "rgb(17,17,17)",
            "gridcolor": "#506784",
            "gridwidth": 2,
            "linecolor": "#506784",
            "showbackground": true,
            "ticks": "",
            "zerolinecolor": "#C8D4E3"
           },
           "yaxis": {
            "backgroundcolor": "rgb(17,17,17)",
            "gridcolor": "#506784",
            "gridwidth": 2,
            "linecolor": "#506784",
            "showbackground": true,
            "ticks": "",
            "zerolinecolor": "#C8D4E3"
           },
           "zaxis": {
            "backgroundcolor": "rgb(17,17,17)",
            "gridcolor": "#506784",
            "gridwidth": 2,
            "linecolor": "#506784",
            "showbackground": true,
            "ticks": "",
            "zerolinecolor": "#C8D4E3"
           }
          },
          "shapedefaults": {
           "line": {
            "color": "#f2f5fa"
           }
          },
          "sliderdefaults": {
           "bgcolor": "#C8D4E3",
           "bordercolor": "rgb(17,17,17)",
           "borderwidth": 1,
           "tickwidth": 0
          },
          "ternary": {
           "aaxis": {
            "gridcolor": "#506784",
            "linecolor": "#506784",
            "ticks": ""
           },
           "baxis": {
            "gridcolor": "#506784",
            "linecolor": "#506784",
            "ticks": ""
           },
           "bgcolor": "rgb(17,17,17)",
           "caxis": {
            "gridcolor": "#506784",
            "linecolor": "#506784",
            "ticks": ""
           }
          },
          "title": {
           "x": 0.05
          },
          "updatemenudefaults": {
           "bgcolor": "#506784",
           "borderwidth": 0
          },
          "xaxis": {
           "automargin": true,
           "gridcolor": "#283442",
           "linecolor": "#506784",
           "ticks": "",
           "title": {
            "standoff": 15
           },
           "zerolinecolor": "#283442",
           "zerolinewidth": 2
          },
          "yaxis": {
           "automargin": true,
           "gridcolor": "#283442",
           "linecolor": "#506784",
           "ticks": "",
           "title": {
            "standoff": 15
           },
           "zerolinecolor": "#283442",
           "zerolinewidth": 2
          }
         }
        },
        "xaxis": {
         "anchor": "y",
         "domain": [
          0,
          1
         ],
         "title": {
          "text": "wRC+ Predicted"
         }
        },
        "yaxis": {
         "anchor": "x",
         "domain": [
          0,
          1
         ],
         "title": {
          "text": "wRC+ Actual"
         }
        }
       }
      }
     },
     "metadata": {},
     "output_type": "display_data"
    }
   ],
   "source": [
    "baseball_data_train_and_plot(data)"
   ]
  },
  {
   "attachments": {},
   "cell_type": "markdown",
   "metadata": {},
   "source": [
    "- With a root mean squeared error of 23.33, this means that the model is roughly off by 20 wRC+ points from the actual wRC+ the following year.\n",
    "- Also with an $R^2$ of 0.19, our model only predicts around 20% of the variance in the data, which is not very accurate.\n",
    "- It looks like the variance in the model's predictions are much more conservative than the actual variance in wRC+ that actually occurs. I would like to see how the results would have changed if we kept outliers in our data instead of removing them outright, since Random Forests are robust to outliers. "
   ]
  },
  {
   "cell_type": "code",
   "execution_count": 43,
   "metadata": {},
   "outputs": [
    {
     "data": {
      "text/html": [
       "<div>\n",
       "<style scoped>\n",
       "    .dataframe tbody tr th:only-of-type {\n",
       "        vertical-align: middle;\n",
       "    }\n",
       "\n",
       "    .dataframe tbody tr th {\n",
       "        vertical-align: top;\n",
       "    }\n",
       "\n",
       "    .dataframe thead th {\n",
       "        text-align: right;\n",
       "    }\n",
       "</style>\n",
       "<table border=\"1\" class=\"dataframe\">\n",
       "  <thead>\n",
       "    <tr style=\"text-align: right;\">\n",
       "      <th></th>\n",
       "      <th>Season</th>\n",
       "      <th>AVG</th>\n",
       "      <th>ISO</th>\n",
       "      <th>BB%</th>\n",
       "      <th>K%</th>\n",
       "      <th>Barrel%</th>\n",
       "      <th>HardHit%</th>\n",
       "      <th>EV</th>\n",
       "      <th>maxEV</th>\n",
       "      <th>LA</th>\n",
       "      <th>GB%</th>\n",
       "      <th>FB%</th>\n",
       "      <th>SwStr%</th>\n",
       "      <th>CStr%</th>\n",
       "      <th>O-Swing%</th>\n",
       "      <th>Z-Swing%</th>\n",
       "      <th>O-Contact%</th>\n",
       "      <th>Z-Contact%</th>\n",
       "      <th>wRC+</th>\n",
       "      <th>wRC+_next</th>\n",
       "    </tr>\n",
       "  </thead>\n",
       "  <tbody>\n",
       "    <tr>\n",
       "      <th>0</th>\n",
       "      <td>2017</td>\n",
       "      <td>0.210</td>\n",
       "      <td>0.161</td>\n",
       "      <td>0.074</td>\n",
       "      <td>0.178</td>\n",
       "      <td>0.034</td>\n",
       "      <td>0.310</td>\n",
       "      <td>86.0</td>\n",
       "      <td>106.4</td>\n",
       "      <td>11.5</td>\n",
       "      <td>0.495</td>\n",
       "      <td>0.369</td>\n",
       "      <td>0.075</td>\n",
       "      <td>0.211</td>\n",
       "      <td>0.211</td>\n",
       "      <td>0.622</td>\n",
       "      <td>0.667</td>\n",
       "      <td>0.873</td>\n",
       "      <td>82</td>\n",
       "      <td>105.0</td>\n",
       "    </tr>\n",
       "    <tr>\n",
       "      <th>1</th>\n",
       "      <td>2016</td>\n",
       "      <td>0.216</td>\n",
       "      <td>0.082</td>\n",
       "      <td>0.097</td>\n",
       "      <td>0.158</td>\n",
       "      <td>0.028</td>\n",
       "      <td>0.333</td>\n",
       "      <td>86.9</td>\n",
       "      <td>105.5</td>\n",
       "      <td>14.6</td>\n",
       "      <td>0.414</td>\n",
       "      <td>0.364</td>\n",
       "      <td>0.046</td>\n",
       "      <td>0.217</td>\n",
       "      <td>0.179</td>\n",
       "      <td>0.594</td>\n",
       "      <td>0.743</td>\n",
       "      <td>0.920</td>\n",
       "      <td>64</td>\n",
       "      <td>82.0</td>\n",
       "    </tr>\n",
       "    <tr>\n",
       "      <th>2</th>\n",
       "      <td>2015</td>\n",
       "      <td>0.238</td>\n",
       "      <td>0.166</td>\n",
       "      <td>0.147</td>\n",
       "      <td>0.175</td>\n",
       "      <td>0.055</td>\n",
       "      <td>0.329</td>\n",
       "      <td>87.7</td>\n",
       "      <td>108.5</td>\n",
       "      <td>9.8</td>\n",
       "      <td>0.437</td>\n",
       "      <td>0.352</td>\n",
       "      <td>0.054</td>\n",
       "      <td>0.231</td>\n",
       "      <td>0.142</td>\n",
       "      <td>0.570</td>\n",
       "      <td>0.682</td>\n",
       "      <td>0.889</td>\n",
       "      <td>116</td>\n",
       "      <td>64.0</td>\n",
       "    </tr>\n",
       "    <tr>\n",
       "      <th>3</th>\n",
       "      <td>2015</td>\n",
       "      <td>0.300</td>\n",
       "      <td>0.130</td>\n",
       "      <td>0.044</td>\n",
       "      <td>0.085</td>\n",
       "      <td>0.029</td>\n",
       "      <td>0.255</td>\n",
       "      <td>85.4</td>\n",
       "      <td>110.0</td>\n",
       "      <td>10.6</td>\n",
       "      <td>0.466</td>\n",
       "      <td>0.287</td>\n",
       "      <td>0.071</td>\n",
       "      <td>0.108</td>\n",
       "      <td>0.403</td>\n",
       "      <td>0.757</td>\n",
       "      <td>0.806</td>\n",
       "      <td>0.920</td>\n",
       "      <td>111</td>\n",
       "      <td>41.0</td>\n",
       "    </tr>\n",
       "    <tr>\n",
       "      <th>4</th>\n",
       "      <td>2022</td>\n",
       "      <td>0.245</td>\n",
       "      <td>0.143</td>\n",
       "      <td>0.061</td>\n",
       "      <td>0.186</td>\n",
       "      <td>0.094</td>\n",
       "      <td>0.420</td>\n",
       "      <td>88.8</td>\n",
       "      <td>110.8</td>\n",
       "      <td>11.8</td>\n",
       "      <td>0.452</td>\n",
       "      <td>0.358</td>\n",
       "      <td>0.118</td>\n",
       "      <td>0.128</td>\n",
       "      <td>0.379</td>\n",
       "      <td>0.761</td>\n",
       "      <td>0.636</td>\n",
       "      <td>0.882</td>\n",
       "      <td>92</td>\n",
       "      <td>45.0</td>\n",
       "    </tr>\n",
       "    <tr>\n",
       "      <th>...</th>\n",
       "      <td>...</td>\n",
       "      <td>...</td>\n",
       "      <td>...</td>\n",
       "      <td>...</td>\n",
       "      <td>...</td>\n",
       "      <td>...</td>\n",
       "      <td>...</td>\n",
       "      <td>...</td>\n",
       "      <td>...</td>\n",
       "      <td>...</td>\n",
       "      <td>...</td>\n",
       "      <td>...</td>\n",
       "      <td>...</td>\n",
       "      <td>...</td>\n",
       "      <td>...</td>\n",
       "      <td>...</td>\n",
       "      <td>...</td>\n",
       "      <td>...</td>\n",
       "      <td>...</td>\n",
       "      <td>...</td>\n",
       "    </tr>\n",
       "    <tr>\n",
       "      <th>3197</th>\n",
       "      <td>2017</td>\n",
       "      <td>0.297</td>\n",
       "      <td>0.251</td>\n",
       "      <td>0.122</td>\n",
       "      <td>0.154</td>\n",
       "      <td>0.044</td>\n",
       "      <td>0.288</td>\n",
       "      <td>85.8</td>\n",
       "      <td>108.3</td>\n",
       "      <td>14.8</td>\n",
       "      <td>0.382</td>\n",
       "      <td>0.423</td>\n",
       "      <td>0.060</td>\n",
       "      <td>0.204</td>\n",
       "      <td>0.244</td>\n",
       "      <td>0.604</td>\n",
       "      <td>0.712</td>\n",
       "      <td>0.922</td>\n",
       "      <td>139</td>\n",
       "      <td>81.0</td>\n",
       "    </tr>\n",
       "    <tr>\n",
       "      <th>3198</th>\n",
       "      <td>2016</td>\n",
       "      <td>0.252</td>\n",
       "      <td>0.172</td>\n",
       "      <td>0.073</td>\n",
       "      <td>0.165</td>\n",
       "      <td>0.023</td>\n",
       "      <td>0.278</td>\n",
       "      <td>86.2</td>\n",
       "      <td>105.6</td>\n",
       "      <td>15.5</td>\n",
       "      <td>0.394</td>\n",
       "      <td>0.399</td>\n",
       "      <td>0.079</td>\n",
       "      <td>0.179</td>\n",
       "      <td>0.289</td>\n",
       "      <td>0.664</td>\n",
       "      <td>0.651</td>\n",
       "      <td>0.916</td>\n",
       "      <td>90</td>\n",
       "      <td>139.0</td>\n",
       "    </tr>\n",
       "    <tr>\n",
       "      <th>3199</th>\n",
       "      <td>2015</td>\n",
       "      <td>0.258</td>\n",
       "      <td>0.201</td>\n",
       "      <td>0.065</td>\n",
       "      <td>0.136</td>\n",
       "      <td>0.018</td>\n",
       "      <td>0.231</td>\n",
       "      <td>85.9</td>\n",
       "      <td>102.8</td>\n",
       "      <td>17.0</td>\n",
       "      <td>0.386</td>\n",
       "      <td>0.422</td>\n",
       "      <td>0.067</td>\n",
       "      <td>0.179</td>\n",
       "      <td>0.315</td>\n",
       "      <td>0.658</td>\n",
       "      <td>0.738</td>\n",
       "      <td>0.925</td>\n",
       "      <td>106</td>\n",
       "      <td>90.0</td>\n",
       "    </tr>\n",
       "    <tr>\n",
       "      <th>3200</th>\n",
       "      <td>2023</td>\n",
       "      <td>0.267</td>\n",
       "      <td>0.237</td>\n",
       "      <td>0.087</td>\n",
       "      <td>0.273</td>\n",
       "      <td>0.111</td>\n",
       "      <td>0.407</td>\n",
       "      <td>89.8</td>\n",
       "      <td>108.5</td>\n",
       "      <td>11.8</td>\n",
       "      <td>0.410</td>\n",
       "      <td>0.335</td>\n",
       "      <td>0.161</td>\n",
       "      <td>0.142</td>\n",
       "      <td>0.325</td>\n",
       "      <td>0.735</td>\n",
       "      <td>0.563</td>\n",
       "      <td>0.747</td>\n",
       "      <td>132</td>\n",
       "      <td>82.0</td>\n",
       "    </tr>\n",
       "    <tr>\n",
       "      <th>3201</th>\n",
       "      <td>2021</td>\n",
       "      <td>0.141</td>\n",
       "      <td>0.141</td>\n",
       "      <td>0.120</td>\n",
       "      <td>0.321</td>\n",
       "      <td>0.049</td>\n",
       "      <td>0.330</td>\n",
       "      <td>87.5</td>\n",
       "      <td>108.2</td>\n",
       "      <td>24.3</td>\n",
       "      <td>0.272</td>\n",
       "      <td>0.563</td>\n",
       "      <td>0.105</td>\n",
       "      <td>0.200</td>\n",
       "      <td>0.228</td>\n",
       "      <td>0.660</td>\n",
       "      <td>0.583</td>\n",
       "      <td>0.823</td>\n",
       "      <td>42</td>\n",
       "      <td>77.0</td>\n",
       "    </tr>\n",
       "  </tbody>\n",
       "</table>\n",
       "<p>3202 rows × 20 columns</p>\n",
       "</div>"
      ],
      "text/plain": [
       "      Season    AVG    ISO    BB%     K%  Barrel%  HardHit%    EV  maxEV  \\\n",
       "0       2017  0.210  0.161  0.074  0.178    0.034     0.310  86.0  106.4   \n",
       "1       2016  0.216  0.082  0.097  0.158    0.028     0.333  86.9  105.5   \n",
       "2       2015  0.238  0.166  0.147  0.175    0.055     0.329  87.7  108.5   \n",
       "3       2015  0.300  0.130  0.044  0.085    0.029     0.255  85.4  110.0   \n",
       "4       2022  0.245  0.143  0.061  0.186    0.094     0.420  88.8  110.8   \n",
       "...      ...    ...    ...    ...    ...      ...       ...   ...    ...   \n",
       "3197    2017  0.297  0.251  0.122  0.154    0.044     0.288  85.8  108.3   \n",
       "3198    2016  0.252  0.172  0.073  0.165    0.023     0.278  86.2  105.6   \n",
       "3199    2015  0.258  0.201  0.065  0.136    0.018     0.231  85.9  102.8   \n",
       "3200    2023  0.267  0.237  0.087  0.273    0.111     0.407  89.8  108.5   \n",
       "3201    2021  0.141  0.141  0.120  0.321    0.049     0.330  87.5  108.2   \n",
       "\n",
       "        LA    GB%    FB%  SwStr%  CStr%  O-Swing%  Z-Swing%  O-Contact%  \\\n",
       "0     11.5  0.495  0.369   0.075  0.211     0.211     0.622       0.667   \n",
       "1     14.6  0.414  0.364   0.046  0.217     0.179     0.594       0.743   \n",
       "2      9.8  0.437  0.352   0.054  0.231     0.142     0.570       0.682   \n",
       "3     10.6  0.466  0.287   0.071  0.108     0.403     0.757       0.806   \n",
       "4     11.8  0.452  0.358   0.118  0.128     0.379     0.761       0.636   \n",
       "...    ...    ...    ...     ...    ...       ...       ...         ...   \n",
       "3197  14.8  0.382  0.423   0.060  0.204     0.244     0.604       0.712   \n",
       "3198  15.5  0.394  0.399   0.079  0.179     0.289     0.664       0.651   \n",
       "3199  17.0  0.386  0.422   0.067  0.179     0.315     0.658       0.738   \n",
       "3200  11.8  0.410  0.335   0.161  0.142     0.325     0.735       0.563   \n",
       "3201  24.3  0.272  0.563   0.105  0.200     0.228     0.660       0.583   \n",
       "\n",
       "      Z-Contact%  wRC+  wRC+_next  \n",
       "0          0.873    82      105.0  \n",
       "1          0.920    64       82.0  \n",
       "2          0.889   116       64.0  \n",
       "3          0.920   111       41.0  \n",
       "4          0.882    92       45.0  \n",
       "...          ...   ...        ...  \n",
       "3197       0.922   139       81.0  \n",
       "3198       0.916    90      139.0  \n",
       "3199       0.925   106       90.0  \n",
       "3200       0.747   132       82.0  \n",
       "3201       0.823    42       77.0  \n",
       "\n",
       "[3202 rows x 20 columns]"
      ]
     },
     "execution_count": 43,
     "metadata": {},
     "output_type": "execute_result"
    }
   ],
   "source": [
    "data_with_outliers = pd.read_csv('../data/fangraphs_numeric_data_with_outliers')\n",
    "data_with_outliers"
   ]
  },
  {
   "cell_type": "code",
   "execution_count": 60,
   "metadata": {},
   "outputs": [
    {
     "name": "stdout",
     "output_type": "stream",
     "text": [
      "Training data: (2844, 18), (2844,)\n",
      "Testing data: (358, 18), (358,)\n",
      "MSE: 623.04, RMSE: 24.96, R²: 0.26\n"
     ]
    },
    {
     "data": {
      "application/vnd.plotly.v1+json": {
       "config": {
        "plotlyServerURL": "https://plot.ly"
       },
       "data": [
        {
         "hovertemplate": "wRC+ Predicted=%{x}<br>wRC+ Actual=%{y}<extra></extra>",
         "legendgroup": "",
         "marker": {
          "color": "#636efa",
          "symbol": "circle"
         },
         "mode": "markers",
         "name": "",
         "orientation": "v",
         "showlegend": false,
         "type": "scatter",
         "x": [
          146.08,
          92.54,
          74.96,
          114.3,
          116.73,
          108.96,
          95.96,
          90.86,
          89.15,
          126.72,
          91.27,
          102.69,
          103.53,
          82.3,
          90.34,
          90.94,
          103.77,
          107.26,
          93.36,
          100.59,
          89.26,
          86.78,
          118.86,
          91.2,
          81.83,
          98.72,
          84.07,
          117.64,
          99.8,
          94.29,
          117.68,
          95.64,
          119.15,
          107.67,
          113.45,
          99.76,
          115.27,
          110.28,
          90.75,
          99.48,
          79.44,
          85.68,
          80.55,
          84.15,
          95.29,
          110.85,
          132.64,
          98.31,
          106.58,
          87.85,
          100.72,
          108.68,
          113.19,
          73.83,
          84.32,
          89.82,
          101.62,
          102.58,
          106.44,
          90.92,
          78.53,
          110.94,
          75.41,
          107.13,
          114.53,
          101.88,
          98.3,
          98.04,
          90.33,
          112.74,
          85.25,
          131.41,
          110.89,
          104.59,
          88.04,
          105.28,
          102.21,
          89.49,
          99.17,
          83.74,
          106.32,
          103.79,
          103.29,
          90.75,
          99.89,
          92.48,
          96.4,
          88.75,
          93.25,
          93.67,
          91.94,
          80.4,
          83.4,
          101.23,
          108.8,
          88.81,
          92.32,
          83.57,
          93.76,
          111.54,
          88.97,
          114.35,
          106.77,
          115.36,
          124.52,
          100.13,
          89.03,
          87.43,
          100.18,
          86.32,
          71.33,
          104.14,
          87.77,
          102.76,
          83.85,
          108.56,
          78.81,
          115.85,
          107.71,
          92.4,
          93.68,
          84.42,
          84.34,
          92.28,
          117.75,
          88.19,
          94.55,
          83.1,
          102.2,
          108.29,
          94.72,
          105.41,
          104.14,
          100.18,
          82.03,
          74.42,
          99.56,
          112.36,
          82.21,
          92.71,
          91.51,
          81.71,
          81.45,
          98.58,
          89.83,
          99.97,
          86.73,
          101.56,
          105.51,
          110.86,
          85.46,
          104.07,
          93.38,
          95.59,
          83.57,
          84.2,
          105.01,
          123.89,
          103.01,
          99.67,
          82.6,
          86.7,
          86.14,
          98.73,
          79.59,
          104.11,
          106.14,
          94.11,
          87.77,
          102.62,
          112.14,
          89.08,
          128.45,
          78.29,
          75.92,
          76.04,
          123.28,
          90.39,
          80.2,
          111.07,
          104.01,
          109.84,
          111.95,
          80.74,
          91.78,
          156.31,
          114.08,
          95.52,
          116.82,
          106.96,
          92.27,
          111.48,
          119.76,
          87.44,
          80.03,
          93.39,
          83.98,
          87.79,
          88.58,
          96.5,
          90.14,
          106.16,
          122.58,
          100.24,
          100.11,
          114.81,
          82.67,
          82.11,
          100.76,
          101.55,
          106.28,
          115.58,
          109.2,
          85.6,
          79.69,
          90.89,
          98.02,
          110.93,
          88.33,
          83.23,
          113.89,
          106.45,
          94.77,
          115.93,
          92.45,
          122.33,
          118.22,
          100.98,
          92.65,
          83.91,
          101.54,
          87.49,
          102.72,
          108.79,
          140.63,
          100.76,
          96.58,
          109.77,
          88.14,
          113.43,
          103.47,
          100.14,
          98.25,
          121.32,
          90.34,
          82.37,
          100.85,
          85.25,
          96.06,
          102.82,
          100.44,
          109.98,
          104.34,
          75.61,
          120.37,
          83.62,
          133.42,
          110.3,
          113.29,
          76.71,
          82.55,
          101.65,
          88.88,
          75.05,
          89.05,
          82.48,
          96.27,
          106.64,
          104.78,
          105.15,
          114.87,
          90.5,
          94.18,
          81.81,
          113.51,
          89.74,
          83.09,
          103.51,
          76.9,
          122.06,
          95.19,
          103.77,
          132.25,
          89.91,
          92.58,
          108.01,
          120.78,
          73.4,
          110.41,
          97.15,
          108.2,
          85.38,
          103.42,
          144.94,
          105.31,
          117.98,
          111.84,
          112.54,
          115.35,
          103.56,
          117.04,
          74.76,
          101.42,
          78.2,
          120.08,
          117.74,
          105.94,
          95.45,
          134.16,
          101.52,
          116.55,
          82.89,
          92.7,
          87.65,
          95.14,
          88.69,
          110.44,
          100.79,
          92.9,
          80.96,
          96.61,
          102.12,
          85.09,
          108.92,
          110.48,
          103.02,
          104.07,
          83.02,
          130.1,
          83.61,
          80.79,
          97.7,
          107.77,
          76.84,
          95.57,
          90.43,
          102.67,
          91.72,
          104.6,
          133.62,
          80.69,
          90.56,
          86.82,
          113.44,
          90.89,
          118.03,
          99.32,
          120.57,
          88.04,
          115.91,
          99.01,
          108.04,
          144.21,
          84.8,
          148.91,
          83.05,
          93.63,
          103.73
         ],
         "xaxis": "x",
         "y": [
          218,
          58,
          63,
          104,
          92,
          115,
          106,
          94,
          65,
          118,
          167,
          83,
          83,
          96,
          83,
          93,
          105,
          97,
          68,
          87,
          68,
          84,
          129,
          86,
          86,
          98,
          20,
          116,
          76,
          83,
          71,
          74,
          168,
          34,
          123,
          108,
          109,
          115,
          88,
          164,
          97,
          83,
          75,
          87,
          77,
          118,
          145,
          88,
          142,
          107,
          117,
          155,
          114,
          99,
          109,
          84,
          105,
          94,
          66,
          74,
          66,
          33,
          60,
          119,
          153,
          82,
          109,
          92,
          110,
          107,
          66,
          140,
          88,
          52,
          94,
          90,
          99,
          99,
          129,
          115,
          80,
          87,
          43,
          93,
          118,
          67,
          105,
          45,
          103,
          80,
          73,
          48,
          81,
          118,
          78,
          86,
          72,
          83,
          115,
          74,
          95,
          135,
          102,
          137,
          137,
          91,
          70,
          107,
          58,
          59,
          63,
          96,
          88,
          95,
          101,
          116,
          81,
          104,
          155,
          101,
          72,
          85,
          30,
          92,
          122,
          72,
          117,
          93,
          86,
          108,
          120,
          89,
          109,
          62,
          114,
          85,
          87,
          106,
          75,
          105,
          95,
          110,
          86,
          71,
          89,
          54,
          72,
          86,
          129,
          94,
          43,
          110,
          97,
          87,
          100,
          118,
          100,
          151,
          76,
          68,
          68,
          105,
          123,
          70,
          113,
          108,
          72,
          125,
          87,
          92,
          119,
          0,
          127,
          83,
          70,
          115,
          141,
          78,
          83,
          101,
          102,
          98,
          118,
          91,
          111,
          180,
          116,
          139,
          117,
          59,
          71,
          160,
          151,
          54,
          89,
          88,
          92,
          70,
          85,
          105,
          81,
          135,
          180,
          119,
          99,
          114,
          130,
          80,
          82,
          101,
          108,
          109,
          83,
          111,
          67,
          60,
          117,
          84,
          107,
          45,
          129,
          85,
          69,
          122,
          79,
          154,
          99,
          102,
          133,
          11,
          115,
          103,
          95,
          121,
          117,
          83,
          108,
          155,
          87,
          94,
          135,
          50,
          112,
          99,
          102,
          98,
          79,
          83,
          111,
          46,
          111,
          139,
          106,
          36,
          88,
          85,
          141,
          121,
          76,
          59,
          33,
          105,
          57,
          94,
          73,
          77,
          103,
          46,
          102,
          87,
          70,
          104,
          72,
          88,
          95,
          111,
          81,
          75,
          95,
          100,
          142,
          122,
          134,
          108,
          115,
          139,
          114,
          60,
          101,
          75,
          135,
          130,
          82,
          105,
          90,
          108,
          107,
          89,
          108,
          44,
          119,
          86,
          115,
          75,
          78,
          138,
          91,
          109,
          181,
          96,
          92,
          104,
          131,
          77,
          88,
          60,
          111,
          134,
          64,
          27,
          98,
          91,
          48,
          103,
          124,
          91,
          121,
          101,
          119,
          93,
          84,
          82,
          131,
          114,
          112,
          98,
          113,
          141,
          108,
          165,
          80,
          75,
          98,
          111,
          108,
          131,
          96,
          140,
          119,
          68,
          95,
          117,
          120,
          95,
          168,
          75,
          114,
          82
         ],
         "yaxis": "y"
        }
       ],
       "layout": {
        "legend": {
         "tracegroupgap": 0
        },
        "margin": {
         "t": 60
        },
        "shapes": [
         {
          "line": {
           "color": "red",
           "dash": "dash"
          },
          "type": "line",
          "x0": 0,
          "x1": 218,
          "y0": 0,
          "y1": 218
         }
        ],
        "template": {
         "data": {
          "bar": [
           {
            "error_x": {
             "color": "#f2f5fa"
            },
            "error_y": {
             "color": "#f2f5fa"
            },
            "marker": {
             "line": {
              "color": "rgb(17,17,17)",
              "width": 0.5
             },
             "pattern": {
              "fillmode": "overlay",
              "size": 10,
              "solidity": 0.2
             }
            },
            "type": "bar"
           }
          ],
          "barpolar": [
           {
            "marker": {
             "line": {
              "color": "rgb(17,17,17)",
              "width": 0.5
             },
             "pattern": {
              "fillmode": "overlay",
              "size": 10,
              "solidity": 0.2
             }
            },
            "type": "barpolar"
           }
          ],
          "carpet": [
           {
            "aaxis": {
             "endlinecolor": "#A2B1C6",
             "gridcolor": "#506784",
             "linecolor": "#506784",
             "minorgridcolor": "#506784",
             "startlinecolor": "#A2B1C6"
            },
            "baxis": {
             "endlinecolor": "#A2B1C6",
             "gridcolor": "#506784",
             "linecolor": "#506784",
             "minorgridcolor": "#506784",
             "startlinecolor": "#A2B1C6"
            },
            "type": "carpet"
           }
          ],
          "choropleth": [
           {
            "colorbar": {
             "outlinewidth": 0,
             "ticks": ""
            },
            "type": "choropleth"
           }
          ],
          "contour": [
           {
            "colorbar": {
             "outlinewidth": 0,
             "ticks": ""
            },
            "colorscale": [
             [
              0,
              "#0d0887"
             ],
             [
              0.1111111111111111,
              "#46039f"
             ],
             [
              0.2222222222222222,
              "#7201a8"
             ],
             [
              0.3333333333333333,
              "#9c179e"
             ],
             [
              0.4444444444444444,
              "#bd3786"
             ],
             [
              0.5555555555555556,
              "#d8576b"
             ],
             [
              0.6666666666666666,
              "#ed7953"
             ],
             [
              0.7777777777777778,
              "#fb9f3a"
             ],
             [
              0.8888888888888888,
              "#fdca26"
             ],
             [
              1,
              "#f0f921"
             ]
            ],
            "type": "contour"
           }
          ],
          "contourcarpet": [
           {
            "colorbar": {
             "outlinewidth": 0,
             "ticks": ""
            },
            "type": "contourcarpet"
           }
          ],
          "heatmap": [
           {
            "colorbar": {
             "outlinewidth": 0,
             "ticks": ""
            },
            "colorscale": [
             [
              0,
              "#0d0887"
             ],
             [
              0.1111111111111111,
              "#46039f"
             ],
             [
              0.2222222222222222,
              "#7201a8"
             ],
             [
              0.3333333333333333,
              "#9c179e"
             ],
             [
              0.4444444444444444,
              "#bd3786"
             ],
             [
              0.5555555555555556,
              "#d8576b"
             ],
             [
              0.6666666666666666,
              "#ed7953"
             ],
             [
              0.7777777777777778,
              "#fb9f3a"
             ],
             [
              0.8888888888888888,
              "#fdca26"
             ],
             [
              1,
              "#f0f921"
             ]
            ],
            "type": "heatmap"
           }
          ],
          "heatmapgl": [
           {
            "colorbar": {
             "outlinewidth": 0,
             "ticks": ""
            },
            "colorscale": [
             [
              0,
              "#0d0887"
             ],
             [
              0.1111111111111111,
              "#46039f"
             ],
             [
              0.2222222222222222,
              "#7201a8"
             ],
             [
              0.3333333333333333,
              "#9c179e"
             ],
             [
              0.4444444444444444,
              "#bd3786"
             ],
             [
              0.5555555555555556,
              "#d8576b"
             ],
             [
              0.6666666666666666,
              "#ed7953"
             ],
             [
              0.7777777777777778,
              "#fb9f3a"
             ],
             [
              0.8888888888888888,
              "#fdca26"
             ],
             [
              1,
              "#f0f921"
             ]
            ],
            "type": "heatmapgl"
           }
          ],
          "histogram": [
           {
            "marker": {
             "pattern": {
              "fillmode": "overlay",
              "size": 10,
              "solidity": 0.2
             }
            },
            "type": "histogram"
           }
          ],
          "histogram2d": [
           {
            "colorbar": {
             "outlinewidth": 0,
             "ticks": ""
            },
            "colorscale": [
             [
              0,
              "#0d0887"
             ],
             [
              0.1111111111111111,
              "#46039f"
             ],
             [
              0.2222222222222222,
              "#7201a8"
             ],
             [
              0.3333333333333333,
              "#9c179e"
             ],
             [
              0.4444444444444444,
              "#bd3786"
             ],
             [
              0.5555555555555556,
              "#d8576b"
             ],
             [
              0.6666666666666666,
              "#ed7953"
             ],
             [
              0.7777777777777778,
              "#fb9f3a"
             ],
             [
              0.8888888888888888,
              "#fdca26"
             ],
             [
              1,
              "#f0f921"
             ]
            ],
            "type": "histogram2d"
           }
          ],
          "histogram2dcontour": [
           {
            "colorbar": {
             "outlinewidth": 0,
             "ticks": ""
            },
            "colorscale": [
             [
              0,
              "#0d0887"
             ],
             [
              0.1111111111111111,
              "#46039f"
             ],
             [
              0.2222222222222222,
              "#7201a8"
             ],
             [
              0.3333333333333333,
              "#9c179e"
             ],
             [
              0.4444444444444444,
              "#bd3786"
             ],
             [
              0.5555555555555556,
              "#d8576b"
             ],
             [
              0.6666666666666666,
              "#ed7953"
             ],
             [
              0.7777777777777778,
              "#fb9f3a"
             ],
             [
              0.8888888888888888,
              "#fdca26"
             ],
             [
              1,
              "#f0f921"
             ]
            ],
            "type": "histogram2dcontour"
           }
          ],
          "mesh3d": [
           {
            "colorbar": {
             "outlinewidth": 0,
             "ticks": ""
            },
            "type": "mesh3d"
           }
          ],
          "parcoords": [
           {
            "line": {
             "colorbar": {
              "outlinewidth": 0,
              "ticks": ""
             }
            },
            "type": "parcoords"
           }
          ],
          "pie": [
           {
            "automargin": true,
            "type": "pie"
           }
          ],
          "scatter": [
           {
            "marker": {
             "line": {
              "color": "#283442"
             }
            },
            "type": "scatter"
           }
          ],
          "scatter3d": [
           {
            "line": {
             "colorbar": {
              "outlinewidth": 0,
              "ticks": ""
             }
            },
            "marker": {
             "colorbar": {
              "outlinewidth": 0,
              "ticks": ""
             }
            },
            "type": "scatter3d"
           }
          ],
          "scattercarpet": [
           {
            "marker": {
             "colorbar": {
              "outlinewidth": 0,
              "ticks": ""
             }
            },
            "type": "scattercarpet"
           }
          ],
          "scattergeo": [
           {
            "marker": {
             "colorbar": {
              "outlinewidth": 0,
              "ticks": ""
             }
            },
            "type": "scattergeo"
           }
          ],
          "scattergl": [
           {
            "marker": {
             "line": {
              "color": "#283442"
             }
            },
            "type": "scattergl"
           }
          ],
          "scattermapbox": [
           {
            "marker": {
             "colorbar": {
              "outlinewidth": 0,
              "ticks": ""
             }
            },
            "type": "scattermapbox"
           }
          ],
          "scatterpolar": [
           {
            "marker": {
             "colorbar": {
              "outlinewidth": 0,
              "ticks": ""
             }
            },
            "type": "scatterpolar"
           }
          ],
          "scatterpolargl": [
           {
            "marker": {
             "colorbar": {
              "outlinewidth": 0,
              "ticks": ""
             }
            },
            "type": "scatterpolargl"
           }
          ],
          "scatterternary": [
           {
            "marker": {
             "colorbar": {
              "outlinewidth": 0,
              "ticks": ""
             }
            },
            "type": "scatterternary"
           }
          ],
          "surface": [
           {
            "colorbar": {
             "outlinewidth": 0,
             "ticks": ""
            },
            "colorscale": [
             [
              0,
              "#0d0887"
             ],
             [
              0.1111111111111111,
              "#46039f"
             ],
             [
              0.2222222222222222,
              "#7201a8"
             ],
             [
              0.3333333333333333,
              "#9c179e"
             ],
             [
              0.4444444444444444,
              "#bd3786"
             ],
             [
              0.5555555555555556,
              "#d8576b"
             ],
             [
              0.6666666666666666,
              "#ed7953"
             ],
             [
              0.7777777777777778,
              "#fb9f3a"
             ],
             [
              0.8888888888888888,
              "#fdca26"
             ],
             [
              1,
              "#f0f921"
             ]
            ],
            "type": "surface"
           }
          ],
          "table": [
           {
            "cells": {
             "fill": {
              "color": "#506784"
             },
             "line": {
              "color": "rgb(17,17,17)"
             }
            },
            "header": {
             "fill": {
              "color": "#2a3f5f"
             },
             "line": {
              "color": "rgb(17,17,17)"
             }
            },
            "type": "table"
           }
          ]
         },
         "layout": {
          "annotationdefaults": {
           "arrowcolor": "#f2f5fa",
           "arrowhead": 0,
           "arrowwidth": 1
          },
          "autotypenumbers": "strict",
          "coloraxis": {
           "colorbar": {
            "outlinewidth": 0,
            "ticks": ""
           }
          },
          "colorscale": {
           "diverging": [
            [
             0,
             "#8e0152"
            ],
            [
             0.1,
             "#c51b7d"
            ],
            [
             0.2,
             "#de77ae"
            ],
            [
             0.3,
             "#f1b6da"
            ],
            [
             0.4,
             "#fde0ef"
            ],
            [
             0.5,
             "#f7f7f7"
            ],
            [
             0.6,
             "#e6f5d0"
            ],
            [
             0.7,
             "#b8e186"
            ],
            [
             0.8,
             "#7fbc41"
            ],
            [
             0.9,
             "#4d9221"
            ],
            [
             1,
             "#276419"
            ]
           ],
           "sequential": [
            [
             0,
             "#0d0887"
            ],
            [
             0.1111111111111111,
             "#46039f"
            ],
            [
             0.2222222222222222,
             "#7201a8"
            ],
            [
             0.3333333333333333,
             "#9c179e"
            ],
            [
             0.4444444444444444,
             "#bd3786"
            ],
            [
             0.5555555555555556,
             "#d8576b"
            ],
            [
             0.6666666666666666,
             "#ed7953"
            ],
            [
             0.7777777777777778,
             "#fb9f3a"
            ],
            [
             0.8888888888888888,
             "#fdca26"
            ],
            [
             1,
             "#f0f921"
            ]
           ],
           "sequentialminus": [
            [
             0,
             "#0d0887"
            ],
            [
             0.1111111111111111,
             "#46039f"
            ],
            [
             0.2222222222222222,
             "#7201a8"
            ],
            [
             0.3333333333333333,
             "#9c179e"
            ],
            [
             0.4444444444444444,
             "#bd3786"
            ],
            [
             0.5555555555555556,
             "#d8576b"
            ],
            [
             0.6666666666666666,
             "#ed7953"
            ],
            [
             0.7777777777777778,
             "#fb9f3a"
            ],
            [
             0.8888888888888888,
             "#fdca26"
            ],
            [
             1,
             "#f0f921"
            ]
           ]
          },
          "colorway": [
           "#636efa",
           "#EF553B",
           "#00cc96",
           "#ab63fa",
           "#FFA15A",
           "#19d3f3",
           "#FF6692",
           "#B6E880",
           "#FF97FF",
           "#FECB52"
          ],
          "font": {
           "color": "#f2f5fa"
          },
          "geo": {
           "bgcolor": "rgb(17,17,17)",
           "lakecolor": "rgb(17,17,17)",
           "landcolor": "rgb(17,17,17)",
           "showlakes": true,
           "showland": true,
           "subunitcolor": "#506784"
          },
          "hoverlabel": {
           "align": "left"
          },
          "hovermode": "closest",
          "mapbox": {
           "style": "dark"
          },
          "paper_bgcolor": "rgb(17,17,17)",
          "plot_bgcolor": "rgb(17,17,17)",
          "polar": {
           "angularaxis": {
            "gridcolor": "#506784",
            "linecolor": "#506784",
            "ticks": ""
           },
           "bgcolor": "rgb(17,17,17)",
           "radialaxis": {
            "gridcolor": "#506784",
            "linecolor": "#506784",
            "ticks": ""
           }
          },
          "scene": {
           "xaxis": {
            "backgroundcolor": "rgb(17,17,17)",
            "gridcolor": "#506784",
            "gridwidth": 2,
            "linecolor": "#506784",
            "showbackground": true,
            "ticks": "",
            "zerolinecolor": "#C8D4E3"
           },
           "yaxis": {
            "backgroundcolor": "rgb(17,17,17)",
            "gridcolor": "#506784",
            "gridwidth": 2,
            "linecolor": "#506784",
            "showbackground": true,
            "ticks": "",
            "zerolinecolor": "#C8D4E3"
           },
           "zaxis": {
            "backgroundcolor": "rgb(17,17,17)",
            "gridcolor": "#506784",
            "gridwidth": 2,
            "linecolor": "#506784",
            "showbackground": true,
            "ticks": "",
            "zerolinecolor": "#C8D4E3"
           }
          },
          "shapedefaults": {
           "line": {
            "color": "#f2f5fa"
           }
          },
          "sliderdefaults": {
           "bgcolor": "#C8D4E3",
           "bordercolor": "rgb(17,17,17)",
           "borderwidth": 1,
           "tickwidth": 0
          },
          "ternary": {
           "aaxis": {
            "gridcolor": "#506784",
            "linecolor": "#506784",
            "ticks": ""
           },
           "baxis": {
            "gridcolor": "#506784",
            "linecolor": "#506784",
            "ticks": ""
           },
           "bgcolor": "rgb(17,17,17)",
           "caxis": {
            "gridcolor": "#506784",
            "linecolor": "#506784",
            "ticks": ""
           }
          },
          "title": {
           "x": 0.05
          },
          "updatemenudefaults": {
           "bgcolor": "#506784",
           "borderwidth": 0
          },
          "xaxis": {
           "automargin": true,
           "gridcolor": "#283442",
           "linecolor": "#506784",
           "ticks": "",
           "title": {
            "standoff": 15
           },
           "zerolinecolor": "#283442",
           "zerolinewidth": 2
          },
          "yaxis": {
           "automargin": true,
           "gridcolor": "#283442",
           "linecolor": "#506784",
           "ticks": "",
           "title": {
            "standoff": 15
           },
           "zerolinecolor": "#283442",
           "zerolinewidth": 2
          }
         }
        },
        "xaxis": {
         "anchor": "y",
         "domain": [
          0,
          1
         ],
         "title": {
          "text": "wRC+ Predicted"
         }
        },
        "yaxis": {
         "anchor": "x",
         "domain": [
          0,
          1
         ],
         "title": {
          "text": "wRC+ Actual"
         }
        }
       }
      }
     },
     "metadata": {},
     "output_type": "display_data"
    }
   ],
   "source": [
    "baseball_data_train_and_plot(data_with_outliers)"
   ]
  },
  {
   "attachments": {},
   "cell_type": "markdown",
   "metadata": {},
   "source": [
    "- The model using the dataset with the outliers was not much better, with an $R^2$ values of 0.26\n",
    "- It looks like the model is bad at predicting players with wRC+ that are very low."
   ]
  },
  {
   "attachments": {},
   "cell_type": "markdown",
   "metadata": {},
   "source": [
    "## Hyperparameter Tuning\n",
    "- I am going to see if changing the hyper parameters around will make the model any more accurate."
   ]
  }
 ],
 "metadata": {
  "kernelspec": {
   "display_name": "base",
   "language": "python",
   "name": "python3"
  },
  "language_info": {
   "codemirror_mode": {
    "name": "ipython",
    "version": 3
   },
   "file_extension": ".py",
   "mimetype": "text/x-python",
   "name": "python",
   "nbconvert_exporter": "python",
   "pygments_lexer": "ipython3",
   "version": "3.11.5"
  },
  "orig_nbformat": 4
 },
 "nbformat": 4,
 "nbformat_minor": 2
}
